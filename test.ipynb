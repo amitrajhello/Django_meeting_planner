{
 "cells": [
  {
   "cell_type": "code",
   "execution_count": 1,
   "metadata": {},
   "outputs": [
    {
     "name": "stdout",
     "output_type": "stream",
     "text": [
      "99\n"
     ]
    }
   ],
   "source": [
    "print(abs(-99))"
   ]
  },
  {
   "cell_type": "code",
   "execution_count": 2,
   "metadata": {},
   "outputs": [
    {
     "name": "stdout",
     "output_type": "stream",
     "text": [
      "0\n",
      "1\n",
      "2\n",
      "3\n"
     ]
    }
   ],
   "source": [
    "for i in range(4):\n",
    "    print(i)"
   ]
  },
  {
   "cell_type": "code",
   "execution_count": 6,
   "metadata": {},
   "outputs": [
    {
     "name": "stdout",
     "output_type": "stream",
     "text": [
      "[1, 3, 5, 8]\n"
     ]
    }
   ],
   "source": [
    "a = [3,1,8,5]\n",
    "a.sort()\n",
    "print(a)"
   ]
  },
  {
   "cell_type": "code",
   "execution_count": 2,
   "metadata": {},
   "outputs": [
    {
     "name": "stdout",
     "output_type": "stream",
     "text": [
      "19:05:45\n",
      "07\n"
     ]
    }
   ],
   "source": [
    "s = '07:05:45PM'\n",
    "result = str(12+int(s[:2])) + s[2:-2]\n",
    "print(result)\n",
    "print(s[:2])"
   ]
  },
  {
   "cell_type": "code",
   "execution_count": 3,
   "metadata": {},
   "outputs": [
    {
     "name": "stdout",
     "output_type": "stream",
     "text": [
      "19:05:45\n"
     ]
    }
   ],
   "source": [
    "def timeConversion(s):\n",
    "    if (s[-2:] == 'PM'):\n",
    "        if (int(s[:2]) == 12):\n",
    "            result = s[:-2]\n",
    "        if (int(s[:2]) >= 1 & int(s[:2]) <= 11):\n",
    "            result = str(12+int(s[:2])) + s[2:-2]\n",
    "    if (s[-2:] == 'AM'):\n",
    "        if (int(s[:2]) == 12):\n",
    "            result = '00'+ s[2:-2]\n",
    "        if (int(s[:2]) >= 1 & int(s[:2]) <= 11):\n",
    "            result = s[:-2]\n",
    "    return result\n",
    "s = '07:05:45PM'\n",
    "result = timeConversion(s)\n",
    "print(result)"
   ]
  },
  {
   "cell_type": "code",
   "execution_count": null,
   "metadata": {},
   "outputs": [],
   "source": []
  }
 ],
 "metadata": {
  "kernelspec": {
   "display_name": ".venv",
   "language": "python",
   "name": "python3"
  },
  "language_info": {
   "codemirror_mode": {
    "name": "ipython",
    "version": 3
   },
   "file_extension": ".py",
   "mimetype": "text/x-python",
   "name": "python",
   "nbconvert_exporter": "python",
   "pygments_lexer": "ipython3",
   "version": "3.10.5 (tags/v3.10.5:f377153, Jun  6 2022, 16:14:13) [MSC v.1929 64 bit (AMD64)]"
  },
  "orig_nbformat": 4,
  "vscode": {
   "interpreter": {
    "hash": "a616b0b6edebe35f0d242e7e3feeeef4af903478fd417286c33aeb544c4cf0fc"
   }
  }
 },
 "nbformat": 4,
 "nbformat_minor": 2
}
